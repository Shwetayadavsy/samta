{
 "cells": [
  {
   "cell_type": "markdown",
   "metadata": {},
   "source": [
    "# Task 1: Calculate Area with Conditions"
   ]
  },
  {
   "cell_type": "code",
   "execution_count": 1,
   "metadata": {},
   "outputs": [
    {
     "name": "stdout",
     "output_type": "stream",
     "text": [
      "12.0\n"
     ]
    }
   ],
   "source": [
    "def calculate_area(length, width):\n",
    "    if length == width:\n",
    "        return \"This is a square!\"\n",
    "    else:\n",
    "        return length * width\n",
    "\n",
    "length = float(input(\"Enter the length: \"))\n",
    "width = float(input(\"Enter the width: \"))\n",
    "result = calculate_area(length, width)\n",
    "print(result)"
   ]
  },
  {
   "cell_type": "markdown",
   "metadata": {},
   "source": [
    "# Task 2: Generate Fibonacci Series"
   ]
  },
  {
   "cell_type": "code",
   "execution_count": 2,
   "metadata": {},
   "outputs": [
    {
     "name": "stdout",
     "output_type": "stream",
     "text": [
      "[0, 1, 1, 2, 3]\n"
     ]
    }
   ],
   "source": [
    "def generate_fibonacci(n):\n",
    "    fib_sequence = [0, 1]\n",
    "    for i in range(2, n):\n",
    "        next_term = fib_sequence[-1] + fib_sequence[-2]\n",
    "        fib_sequence.append(next_term)\n",
    "    return fib_sequence\n",
    "\n",
    "n = int(input(\"Enter the number of terms: \"))\n",
    "result = generate_fibonacci(n)\n",
    "print(result)"
   ]
  },
  {
   "cell_type": "markdown",
   "metadata": {},
   "source": [
    "# Task 3: MySQL Database Operations with Python"
   ]
  },
  {
   "cell_type": "code",
   "execution_count": 3,
   "metadata": {},
   "outputs": [
    {
     "name": "stdout",
     "output_type": "stream",
     "text": [
      "(1, 'Shweta', 'Yadav', 20, 90.5)\n",
      "(3, 'Shika', 'Singh', 24, 91.5)\n"
     ]
    }
   ],
   "source": [
    "import mysql.connector\n",
    "\n",
    "# Connect to the SQL\n",
    "mydb = mysql.connector.connect(\n",
    "    host=\"localhost\",\n",
    "    user=\"root\",\n",
    "    password=\"70070\"  \n",
    ")\n",
    "\n",
    "# Create a cursor\n",
    "mycursor = mydb.cursor()\n",
    "\n",
    "# Create a Database\n",
    "mycursor.execute(\"CREATE DATABASE College\")\n",
    "mydb = mysql.connector.connect(\n",
    "    host=\"localhost\",\n",
    "    user=\"root\",\n",
    "    password=\"70070\",\n",
    "database=\"College\"\n",
    ")\n",
    "mycursor = mydb.cursor()\n",
    "\n",
    "# Create a table\n",
    "mycursor.execute(\"CREATE TABLE IF NOT EXISTS student (student_id INT AUTO_INCREMENT PRIMARY KEY, first_name VARCHAR(255), last_name VARCHAR(255), age INT, grade FLOAT)\")\n",
    "\n",
    "# Insert new student records\n",
    "sql = \"INSERT INTO student (first_name, last_name, age, grade) VALUES (%s, %s, %s, %s)\"\n",
    "val1 = (\"Shweta\", \"Yadav\", 20, 90.5)\n",
    "val2 = (\"Alice\", \"Smith\", 18, 95.5)\n",
    "val3 = (\"Shika\", \"Singh\", 24, 91.5)\n",
    "mycursor.execute(sql, val1)\n",
    "mycursor.execute(sql, val2)\n",
    "mycursor.execute(sql, val3)\n",
    "\n",
    "# Commit the changes\n",
    "mydb.commit()\n",
    "\n",
    "# Update the grade of the student\n",
    "sql = \"UPDATE student SET grade = 97.0 WHERE first_name = 'Alice'\"\n",
    "mycursor.execute(sql)\n",
    "mydb.commit()\n",
    "\n",
    "# Delete the student\n",
    "sql = \"DELETE FROM student WHERE last_name = 'Smith'\"\n",
    "mycursor.execute(sql)\n",
    "mydb.commit()\n",
    "\n",
    "# Fetch and display all student records\n",
    "mycursor.execute(\"SELECT * FROM student\")\n",
    "records = mycursor.fetchall()\n",
    "for record in records:\n",
    "    print(record)"
   ]
  }
 ],
 "metadata": {
  "kernelspec": {
   "display_name": "Python 3",
   "language": "python",
   "name": "python3"
  },
  "language_info": {
   "codemirror_mode": {
    "name": "ipython",
    "version": 3
   },
   "file_extension": ".py",
   "mimetype": "text/x-python",
   "name": "python",
   "nbconvert_exporter": "python",
   "pygments_lexer": "ipython3",
   "version": "3.11.7"
  }
 },
 "nbformat": 4,
 "nbformat_minor": 2
}
